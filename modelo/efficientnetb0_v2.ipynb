{
 "cells": [
  {
   "cell_type": "code",
   "execution_count": 1,
   "id": "aaf93f3c",
   "metadata": {},
   "outputs": [],
   "source": [
    "import os\n",
    "import numpy as np\n",
    "import tensorflow as tf\n",
    "import matplotlib.pyplot as plt\n",
    "from tensorflow.keras import layers, models\n",
    "from tensorflow.keras.applications import EfficientNetB0\n",
    "from tensorflow.keras.applications.efficientnet import preprocess_input\n",
    "from tensorflow.keras.callbacks import EarlyStopping, ModelCheckpoint\n",
    "from tensorflow.keras import mixed_precision"
   ]
  },
  {
   "cell_type": "markdown",
   "id": "a0f00d67",
   "metadata": {},
   "source": [
    "# -------------------------------------\n",
    "# 2. CONFIGURACIÓN\n",
    "# -------------------------------------"
   ]
  },
  {
   "cell_type": "code",
   "execution_count": 2,
   "id": "b611707b-4398-45a3-8936-5f6cb95308e9",
   "metadata": {},
   "outputs": [
    {
     "name": "stdout",
     "output_type": "stream",
     "text": [
      "[name: \"/device:CPU:0\"\n",
      "device_type: \"CPU\"\n",
      "memory_limit: 268435456\n",
      "locality {\n",
      "}\n",
      "incarnation: 11715441639223892151\n",
      "xla_global_id: -1\n",
      ", name: \"/device:GPU:0\"\n",
      "device_type: \"GPU\"\n",
      "memory_limit: 4133486592\n",
      "locality {\n",
      "  bus_id: 1\n",
      "  links {\n",
      "  }\n",
      "}\n",
      "incarnation: 1725557201803639109\n",
      "physical_device_desc: \"device: 0, name: NVIDIA GeForce RTX 2060, pci bus id: 0000:26:00.0, compute capability: 7.5\"\n",
      "xla_global_id: 416903419\n",
      "]\n"
     ]
    }
   ],
   "source": [
    "from tensorflow.python.client import device_lib\n",
    "print(device_lib.list_local_devices())"
   ]
  },
  {
   "cell_type": "code",
   "execution_count": 3,
   "id": "ffadafaa-8258-4e97-a0e8-4cb16f6bf4f5",
   "metadata": {},
   "outputs": [
    {
     "name": "stdout",
     "output_type": "stream",
     "text": [
      "GPUs disponibles: [PhysicalDevice(name='/physical_device:GPU:0', device_type='GPU')]\n"
     ]
    }
   ],
   "source": [
    "print(\"GPUs disponibles:\", tf.config.list_physical_devices('GPU'))"
   ]
  },
  {
   "cell_type": "code",
   "execution_count": 4,
   "id": "e552a2de",
   "metadata": {},
   "outputs": [
    {
     "name": "stdout",
     "output_type": "stream",
     "text": [
      "INFO:tensorflow:Mixed precision compatibility check (mixed_float16): OK\n",
      "Your GPU will likely run quickly with dtype policy mixed_float16 as it has compute capability of at least 7.0. Your GPU: NVIDIA GeForce RTX 2060, compute capability 7.5\n"
     ]
    }
   ],
   "source": [
    "mixed_precision.set_global_policy('mixed_float16')\n",
    "\n",
    "# Parámetros\n",
    "img_size = (224, 224)\n",
    "batch_size = 32\n",
    "epochs = 100\n",
    "seed = 123\n",
    "train_dir = '../dataset/multi-6/train'\n",
    "model_path = 'efficientnetb0_v2.keras'"
   ]
  },
  {
   "cell_type": "markdown",
   "id": "fcd99e43",
   "metadata": {},
   "source": [
    "# -------------------------------------\n",
    "# 3. DATA AUGMENTATION Y GENERADORES\n",
    "# -------------------------------------"
   ]
  },
  {
   "cell_type": "code",
   "execution_count": 5,
   "id": "850c7dc8",
   "metadata": {},
   "outputs": [
    {
     "name": "stdout",
     "output_type": "stream",
     "text": [
      "Found 30901 files belonging to 6 classes.\n",
      "Using 24721 files for training.\n",
      "Found 30901 files belonging to 6 classes.\n",
      "Using 6180 files for validation.\n",
      "Clases: ['Acne', 'Benign', 'Eczema', 'Infectious', 'Malign', 'Pigmentation']\n"
     ]
    }
   ],
   "source": [
    "train_ds = tf.keras.utils.image_dataset_from_directory(\n",
    "    train_dir,\n",
    "    validation_split=0.2,\n",
    "    subset=\"training\",\n",
    "    seed=seed,\n",
    "    image_size=img_size,\n",
    "    batch_size=batch_size\n",
    ")\n",
    "\n",
    "val_ds = tf.keras.utils.image_dataset_from_directory(\n",
    "    train_dir,\n",
    "    validation_split=0.2,\n",
    "    subset=\"validation\",\n",
    "    seed=seed,\n",
    "    image_size=img_size,\n",
    "    batch_size=batch_size\n",
    ")\n",
    "# Obtener número de clases\n",
    "class_names = train_ds.class_names\n",
    "num_classes = len(class_names)\n",
    "print(\"Clases:\", class_names)\n"
   ]
  },
  {
   "cell_type": "code",
   "execution_count": 6,
   "id": "3aa75101",
   "metadata": {},
   "outputs": [
    {
     "name": "stdout",
     "output_type": "stream",
     "text": [
      "Pesos por clase: {0: 2.396618582286335, 1: 0.4733762254901961, 2: 1.2654381654381655, 3: 0.8583888888888889, 4: 0.7593002113125952, 5: 5.049346405228758}\n"
     ]
    }
   ],
   "source": [
    "\n",
    "# ---------------------------------------\n",
    "# CÁLCULO DE PESOS POR CLASE\n",
    "# ---------------------------------------\n",
    "from sklearn.utils.class_weight import compute_class_weight\n",
    "\n",
    "# Contar imágenes por clase\n",
    "image_counts = []\n",
    "for class_name in class_names:\n",
    "    class_path = os.path.join(train_dir, class_name)\n",
    "    count = len(os.listdir(class_path))\n",
    "    image_counts.append(count)\n",
    "\n",
    "# Crear vector de etiquetas reales\n",
    "y_train = []\n",
    "for i, count in enumerate(image_counts):\n",
    "    y_train += [i] * count\n",
    "y_train = np.array(y_train)\n",
    "\n",
    "# Calcular pesos\n",
    "weights = compute_class_weight(class_weight='balanced', classes=np.unique(y_train), y=y_train)\n",
    "class_weight = dict(enumerate(weights))\n",
    "\n",
    "print(\"Pesos por clase:\", class_weight)"
   ]
  },
  {
   "cell_type": "code",
   "execution_count": 7,
   "id": "8f2eb725",
   "metadata": {},
   "outputs": [],
   "source": [
    "# Optimización de rendimiento\n",
    "AUTOTUNE = tf.data.AUTOTUNE\n",
    "\n",
    "train_ds = train_ds.map(lambda x, y: (preprocess_input(x), y), num_parallel_calls=tf.data.AUTOTUNE)\n",
    "val_ds = val_ds.map(lambda x, y: (preprocess_input(x), y), num_parallel_calls=tf.data.AUTOTUNE)\n",
    "\n",
    "# Configuración de caché y prefetch\n",
    "train_ds = train_ds.cache().prefetch(buffer_size=AUTOTUNE)\n",
    "val_ds = val_ds.cache().prefetch(buffer_size=AUTOTUNE)\n"
   ]
  },
  {
   "cell_type": "code",
   "execution_count": 8,
   "id": "4e96e6cc",
   "metadata": {},
   "outputs": [],
   "source": [
    "# Modelo base (preentrenado)\n",
    "base_model = EfficientNetB0(weights='imagenet', include_top=False, input_shape=(224, 224, 3))\n",
    "base_model.trainable = False  # congelamos capas base\n",
    "\n",
    "data_augmentation = tf.keras.Sequential([\n",
    "    layers.RandomFlip(\"horizontal\"),\n",
    "    layers.RandomRotation(0.1),\n",
    "    layers.RandomZoom(0.1),\n",
    "])\n",
    "\n",
    "\n",
    "# Modelo completo (sin preprocessing dentro)\n",
    "model = models.Sequential([\n",
    "    base_model,\n",
    "    data_augmentation,\n",
    "    layers.GlobalAveragePooling2D(),\n",
    "    layers.Dense(256, activation='relu'),\n",
    "    layers.Dropout(0.3),\n",
    "    layers.Dense(num_classes, activation='softmax')\n",
    "])\n",
    "\n",
    "# Compilar modelo\n",
    "model.compile(\n",
    "    optimizer='adam',\n",
    "    loss='sparse_categorical_crossentropy',\n",
    "    metrics=['accuracy']\n",
    ")"
   ]
  },
  {
   "cell_type": "code",
   "execution_count": 9,
   "id": "9868961b",
   "metadata": {},
   "outputs": [
    {
     "name": "stdout",
     "output_type": "stream",
     "text": [
      "Epoch 1/100\n",
      "WARNING:tensorflow:Using a while_loop for converting RngReadAndSkip cause there is no registered converter for this op.\n",
      "WARNING:tensorflow:Using a while_loop for converting Bitcast cause there is no registered converter for this op.\n",
      "WARNING:tensorflow:Using a while_loop for converting Bitcast cause there is no registered converter for this op.\n",
      "WARNING:tensorflow:Using a while_loop for converting StatelessRandomUniformV2 cause there is no registered converter for this op.\n",
      "WARNING:tensorflow:Using a while_loop for converting ImageProjectiveTransformV3 cause there is no registered converter for this op.\n",
      "WARNING:tensorflow:Using a while_loop for converting RngReadAndSkip cause there is no registered converter for this op.\n",
      "WARNING:tensorflow:Using a while_loop for converting Bitcast cause there is no registered converter for this op.\n",
      "WARNING:tensorflow:Using a while_loop for converting Bitcast cause there is no registered converter for this op.\n",
      "WARNING:tensorflow:Using a while_loop for converting StatelessRandomUniformV2 cause there is no registered converter for this op.\n",
      "WARNING:tensorflow:Using a while_loop for converting ImageProjectiveTransformV3 cause there is no registered converter for this op.\n"
     ]
    },
    {
     "name": "stderr",
     "output_type": "stream",
     "text": [
      "C:\\Users\\Usuario\\AppData\\Local\\Programs\\Python\\Python310\\lib\\site-packages\\tensorflow\\python\\framework\\indexed_slices.py:444: UserWarning: Converting sparse IndexedSlices(IndexedSlices(indices=Tensor(\"gradient_tape/sequential_1/sequential/random_rotation/loop_body/GatherV2/pfor/Reshape_1:0\", shape=(None,), dtype=int32), values=Tensor(\"gradient_tape/sequential_1/sequential/random_rotation/loop_body/GatherV2/pfor/Reshape:0\", shape=(None, 7, 7, 1280), dtype=float16), dense_shape=Tensor(\"gradient_tape/sequential_1/sequential/random_rotation/loop_body/GatherV2/pfor/Cast:0\", shape=(4,), dtype=int32))) to a dense Tensor of unknown shape. This may consume a large amount of memory.\n",
      "  warnings.warn(\n"
     ]
    },
    {
     "name": "stdout",
     "output_type": "stream",
     "text": [
      "WARNING:tensorflow:Using a while_loop for converting RngReadAndSkip cause there is no registered converter for this op.\n",
      "WARNING:tensorflow:Using a while_loop for converting Bitcast cause there is no registered converter for this op.\n",
      "WARNING:tensorflow:Using a while_loop for converting Bitcast cause there is no registered converter for this op.\n",
      "WARNING:tensorflow:Using a while_loop for converting StatelessRandomUniformV2 cause there is no registered converter for this op.\n",
      "WARNING:tensorflow:Using a while_loop for converting ImageProjectiveTransformV3 cause there is no registered converter for this op.\n",
      "WARNING:tensorflow:Using a while_loop for converting RngReadAndSkip cause there is no registered converter for this op.\n",
      "WARNING:tensorflow:Using a while_loop for converting Bitcast cause there is no registered converter for this op.\n",
      "WARNING:tensorflow:Using a while_loop for converting Bitcast cause there is no registered converter for this op.\n",
      "WARNING:tensorflow:Using a while_loop for converting StatelessRandomUniformV2 cause there is no registered converter for this op.\n",
      "WARNING:tensorflow:Using a while_loop for converting ImageProjectiveTransformV3 cause there is no registered converter for this op.\n",
      "773/773 [==============================] - 218s 271ms/step - loss: 0.9227 - accuracy: 0.6316 - val_loss: 0.7442 - val_accuracy: 0.7013\n",
      "Epoch 2/100\n",
      "773/773 [==============================] - 204s 264ms/step - loss: 0.7478 - accuracy: 0.6992 - val_loss: 0.6670 - val_accuracy: 0.7380\n",
      "Epoch 3/100\n",
      "773/773 [==============================] - 202s 261ms/step - loss: 0.6653 - accuracy: 0.7285 - val_loss: 0.6274 - val_accuracy: 0.7621\n",
      "Epoch 4/100\n",
      "773/773 [==============================] - 202s 261ms/step - loss: 0.5989 - accuracy: 0.7548 - val_loss: 0.6039 - val_accuracy: 0.7701\n",
      "Epoch 5/100\n",
      "773/773 [==============================] - 200s 259ms/step - loss: 0.5432 - accuracy: 0.7714 - val_loss: 0.5789 - val_accuracy: 0.7814\n",
      "Epoch 6/100\n",
      "773/773 [==============================] - 199s 258ms/step - loss: 0.4963 - accuracy: 0.7910 - val_loss: 0.5575 - val_accuracy: 0.7939\n",
      "Epoch 7/100\n",
      "773/773 [==============================] - 201s 260ms/step - loss: 0.4520 - accuracy: 0.8105 - val_loss: 0.5446 - val_accuracy: 0.8013\n",
      "Epoch 8/100\n",
      "773/773 [==============================] - 200s 259ms/step - loss: 0.4262 - accuracy: 0.8185 - val_loss: 0.5387 - val_accuracy: 0.8125\n",
      "Epoch 9/100\n",
      "773/773 [==============================] - 200s 258ms/step - loss: 0.4039 - accuracy: 0.8282 - val_loss: 0.5508 - val_accuracy: 0.8024\n",
      "Epoch 10/100\n",
      "773/773 [==============================] - 200s 259ms/step - loss: 0.3756 - accuracy: 0.8371 - val_loss: 0.5324 - val_accuracy: 0.8115\n",
      "Epoch 11/100\n",
      "773/773 [==============================] - 200s 259ms/step - loss: 0.3580 - accuracy: 0.8424 - val_loss: 0.5303 - val_accuracy: 0.8152\n",
      "Epoch 12/100\n",
      "773/773 [==============================] - 201s 260ms/step - loss: 0.3431 - accuracy: 0.8504 - val_loss: 0.5192 - val_accuracy: 0.8214\n",
      "Epoch 13/100\n",
      "773/773 [==============================] - 200s 259ms/step - loss: 0.3317 - accuracy: 0.8581 - val_loss: 0.5204 - val_accuracy: 0.8191\n",
      "Epoch 14/100\n",
      "773/773 [==============================] - 202s 262ms/step - loss: 0.3123 - accuracy: 0.8627 - val_loss: 0.5115 - val_accuracy: 0.8309\n",
      "Epoch 15/100\n",
      "773/773 [==============================] - 203s 263ms/step - loss: 0.3013 - accuracy: 0.8693 - val_loss: 0.5341 - val_accuracy: 0.8239\n",
      "Epoch 16/100\n",
      "773/773 [==============================] - 202s 262ms/step - loss: 0.2848 - accuracy: 0.8750 - val_loss: 0.5440 - val_accuracy: 0.8238\n",
      "Epoch 17/100\n",
      "773/773 [==============================] - 202s 262ms/step - loss: 0.2732 - accuracy: 0.8785 - val_loss: 0.5131 - val_accuracy: 0.8377\n",
      "Epoch 18/100\n",
      "773/773 [==============================] - 204s 263ms/step - loss: 0.2720 - accuracy: 0.8846 - val_loss: 0.5117 - val_accuracy: 0.8383\n",
      "Epoch 19/100\n",
      "773/773 [==============================] - 204s 264ms/step - loss: 0.2556 - accuracy: 0.8882 - val_loss: 0.5103 - val_accuracy: 0.8447\n",
      "Epoch 20/100\n",
      "773/773 [==============================] - 203s 262ms/step - loss: 0.2520 - accuracy: 0.8914 - val_loss: 0.5430 - val_accuracy: 0.8379\n",
      "Epoch 21/100\n",
      "773/773 [==============================] - 203s 263ms/step - loss: 0.2498 - accuracy: 0.8916 - val_loss: 0.5340 - val_accuracy: 0.8369\n",
      "Epoch 22/100\n",
      "773/773 [==============================] - 203s 263ms/step - loss: 0.2428 - accuracy: 0.8926 - val_loss: 0.5336 - val_accuracy: 0.8382\n",
      "Epoch 23/100\n",
      "773/773 [==============================] - 202s 261ms/step - loss: 0.2316 - accuracy: 0.8980 - val_loss: 0.5172 - val_accuracy: 0.8419\n",
      "Epoch 24/100\n",
      "773/773 [==============================] - 204s 264ms/step - loss: 0.2378 - accuracy: 0.8981 - val_loss: 0.5398 - val_accuracy: 0.8385\n"
     ]
    }
   ],
   "source": [
    "# Callbacks\n",
    "callbacks = [\n",
    "    EarlyStopping(patience=5, restore_best_weights=True),\n",
    "    ModelCheckpoint(model_path, save_best_only=True)\n",
    "]\n",
    "\n",
    "# Entrenamiento\n",
    "history = model.fit(\n",
    "    train_ds,\n",
    "    validation_data=val_ds,\n",
    "    epochs=epochs,\n",
    "    callbacks=callbacks,\n",
    "    class_weight=class_weight \n",
    ")\n"
   ]
  },
  {
   "cell_type": "code",
   "execution_count": 14,
   "id": "cd39bb54",
   "metadata": {},
   "outputs": [
    {
     "name": "stdout",
     "output_type": "stream",
     "text": [
      "194/194 [==============================] - 10s 45ms/step\n",
      "\n",
      "🧾 Clasification Report (Set de Validación):\n",
      "\n",
      "              precision    recall  f1-score   support\n",
      "\n",
      "        Acne       0.81      0.89      0.85       397\n",
      "      Benign       0.88      0.88      0.88      2161\n",
      "      Eczema       0.82      0.85      0.83       831\n",
      "  Infectious       0.82      0.86      0.84      1238\n",
      "      Malign       0.85      0.79      0.82      1338\n",
      "Pigmentation       0.78      0.63      0.70       215\n",
      "\n",
      "    accuracy                           0.84      6180\n",
      "   macro avg       0.83      0.82      0.82      6180\n",
      "weighted avg       0.84      0.84      0.84      6180\n",
      "\n"
     ]
    },
    {
     "data": {
      "image/png": "[encoded data removed]",
      "text/plain": [
       "<Figure size 1400x1000 with 2 Axes>"
      ]
     },
     "metadata": {},
     "output_type": "display_data"
    }
   ],
   "source": [
    "import os\n",
    "import numpy as np\n",
    "import tensorflow as tf\n",
    "import matplotlib.pyplot as plt\n",
    "import seaborn as sns\n",
    "from sklearn.metrics import classification_report, confusion_matrix\n",
    "\"\"\"\n",
    "# Rutas\n",
    "test_dir = '../dataset/multi-6/test'\n",
    "\n",
    "# Cargar modelo entrenado\n",
    "model = tf.keras.models.load_model(model_path)\n",
    "\n",
    "# Cargar dataset de test\n",
    "test_ds = tf.keras.utils.image_dataset_from_directory(\n",
    "    test_dir,\n",
    "    batch_size=batch_size,\n",
    "    image_size=img_size,\n",
    "    shuffle=False  # MUY IMPORTANTE para alinear predicciones con etiquetas\n",
    ")\n",
    "\n",
    "# Obtener nombres de clase\n",
    "class_names = test_ds.class_names\n",
    "num_classes = len(class_names)\n",
    "\n",
    "# Prefetch para acelerar\n",
    "AUTOTUNE = tf.data.AUTOTUNE\n",
    "test_ds = test_ds.cache().prefetch(buffer_size=AUTOTUNE)\n",
    "\n",
    "# Obtener predicciones\n",
    "y_pred_probs = model.predict(test_ds)\n",
    "y_pred = np.argmax(y_pred_probs, axis=1)\n",
    "\n",
    "# Obtener etiquetas reales\n",
    "y_true = np.concatenate([y.numpy() for x, y in test_ds])\n",
    "\n",
    "# Reporte de clasificación\n",
    "print(\"🧾 Clasification Report:\\n\")\n",
    "print(classification_report(y_true, y_pred, target_names=class_names))\n",
    "\n",
    "# Matriz de confusión\n",
    "cm = confusion_matrix(y_true, y_pred)\n",
    "\n",
    "plt.figure(figsize=(14, 10))\n",
    "sns.heatmap(cm, annot=True, fmt='d', xticklabels=class_names, yticklabels=class_names, cmap='Blues')\n",
    "plt.xlabel('Predicción')\n",
    "plt.ylabel('Real')\n",
    "plt.title('Matriz de Confusión')\n",
    "plt.xticks(rotation=90)\n",
    "plt.yticks(rotation=0)\n",
    "plt.tight_layout()\n",
    "plt.show()\n",
    "\n",
    "\"\"\"\n",
    "y_pred_probs = model.predict(val_ds)\n",
    "y_pred = np.argmax(y_pred_probs, axis=1)\n",
    "\n",
    "y_true = np.concatenate([y.numpy() for x, y in val_ds])\n",
    "\n",
    "print(\"\\n🧾 Clasification Report (Set de Validación):\\n\")\n",
    "print(classification_report(y_true, y_pred, target_names=class_names))\n",
    "\n",
    "cm = confusion_matrix(y_true, y_pred)\n",
    "\n",
    "plt.figure(figsize=(14, 10))\n",
    "sns.heatmap(cm, annot=True, fmt='d', xticklabels=class_names, yticklabels=class_names, cmap='Blues')\n",
    "plt.xlabel('Predicción')\n",
    "plt.ylabel('Real')\n",
    "plt.title('Matriz de Confusión')\n",
    "plt.xticks(rotation=90)\n",
    "plt.yticks(rotation=0)\n",
    "plt.tight_layout()\n",
    "plt.show()"
   ]
  },
  {
   "cell_type": "code",
   "execution_count": null,
   "id": "8bebb8d5-0172-4c82-a679-0d6a1e255370",
   "metadata": {},
   "outputs": [],
   "source": []
  }
 ],
 "metadata": {
  "kernelspec": {
   "display_name": "Python 3 (ipykernel)",
   "language": "python",
   "name": "python3"
  },
  "language_info": {
   "codemirror_mode": {
    "name": "ipython",
    "version": 3
   },
   "file_extension": ".py",
   "mimetype": "text/x-python",
   "name": "python",
   "nbconvert_exporter": "python",
   "pygments_lexer": "ipython3",
   "version": "3.10.11"
  }
 },
 "nbformat": 4,
 "nbformat_minor": 5
}
