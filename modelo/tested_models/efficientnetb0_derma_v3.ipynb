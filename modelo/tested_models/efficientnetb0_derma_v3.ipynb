{
 "cells": [
  {
   "cell_type": "code",
   "execution_count": 1,
   "id": "aaf93f3c",
   "metadata": {},
   "outputs": [],
   "source": [
    "import os\n",
    "import numpy as np\n",
    "import tensorflow as tf\n",
    "import matplotlib.pyplot as plt\n",
    "from tensorflow.keras import layers, models\n",
    "from tensorflow.keras.applications import EfficientNetB0\n",
    "from tensorflow.keras.applications.efficientnet import preprocess_input\n",
    "from tensorflow.keras.callbacks import EarlyStopping, ModelCheckpoint\n",
    "from tensorflow.keras import mixed_precision"
   ]
  },
  {
   "cell_type": "code",
   "execution_count": 2,
   "id": "b611707b-4398-45a3-8936-5f6cb95308e9",
   "metadata": {},
   "outputs": [
    {
     "name": "stdout",
     "output_type": "stream",
     "text": [
      "[name: \"/device:CPU:0\"\n",
      "device_type: \"CPU\"\n",
      "memory_limit: 268435456\n",
      "locality {\n",
      "}\n",
      "incarnation: 8223856151315463949\n",
      "xla_global_id: -1\n",
      ", name: \"/device:GPU:0\"\n",
      "device_type: \"GPU\"\n",
      "memory_limit: 4133486592\n",
      "locality {\n",
      "  bus_id: 1\n",
      "  links {\n",
      "  }\n",
      "}\n",
      "incarnation: 9496422590008071741\n",
      "physical_device_desc: \"device: 0, name: NVIDIA GeForce RTX 2060, pci bus id: 0000:26:00.0, compute capability: 7.5\"\n",
      "xla_global_id: 416903419\n",
      "]\n"
     ]
    }
   ],
   "source": [
    "from tensorflow.python.client import device_lib\n",
    "print(device_lib.list_local_devices())"
   ]
  },
  {
   "cell_type": "code",
   "execution_count": 3,
   "id": "ffadafaa-8258-4e97-a0e8-4cb16f6bf4f5",
   "metadata": {},
   "outputs": [
    {
     "name": "stdout",
     "output_type": "stream",
     "text": [
      "GPUs disponibles: [PhysicalDevice(name='/physical_device:GPU:0', device_type='GPU')]\n"
     ]
    }
   ],
   "source": [
    "print(\"GPUs disponibles:\", tf.config.list_physical_devices('GPU'))"
   ]
  },
  {
   "cell_type": "markdown",
   "id": "a0f00d67",
   "metadata": {},
   "source": [
    "# -------------------------------------\n",
    "# 2. CONFIGURACIÓN\n",
    "# -------------------------------------"
   ]
  },
  {
   "cell_type": "code",
   "execution_count": 14,
   "id": "e552a2de",
   "metadata": {},
   "outputs": [],
   "source": [
    "tf.keras.mixed_precision.set_global_policy('float32')\n",
    "#mixed_precision.set_global_policy('mixed_float16')\n",
    "\n",
    "# Parámetros\n",
    "img_size = (224, 224)\n",
    "batch_size = 32\n",
    "epochs = 100\n",
    "seed = 123\n",
    "train_dir = '../dataset/multi-6/train'\n",
    "model_path = 'efficientnetb0_v2.keras'"
   ]
  },
  {
   "cell_type": "markdown",
   "id": "fcd99e43",
   "metadata": {},
   "source": [
    "# -------------------------------------\n",
    "# 3. DATA AUGMENTATION Y GENERADORES\n",
    "# -------------------------------------"
   ]
  },
  {
   "cell_type": "code",
   "execution_count": 5,
   "id": "850c7dc8",
   "metadata": {},
   "outputs": [
    {
     "name": "stdout",
     "output_type": "stream",
     "text": [
      "Found 30901 files belonging to 6 classes.\n",
      "Using 24721 files for training.\n",
      "Found 30901 files belonging to 6 classes.\n",
      "Using 6180 files for validation.\n",
      "Clases: ['Acne', 'Benign', 'Eczema', 'Infectious', 'Malign', 'Pigmentation']\n",
      "Imagen shape: (32, 224, 224, 3)\n",
      "Etiqueta: [0 1 3 1 1 3 0 4 2 2 1 3 1 1 5 1 3 4 1 1 1 3 1 1 1 1 2 1 2 3 1 0]\n",
      "Imagen shape: (32, 224, 224, 3)\n",
      "Etiqueta: [0 1 5 1 1 1 4 3 1 0 3 1 4 1 3 4 4 1 2 1 5 4 4 4 3 1 2 0 4 1 1 4]\n",
      "Imagen shape: (32, 224, 224, 3)\n",
      "Etiqueta: [1 0 0 4 1 3 1 4 1 3 3 4 5 4 3 4 2 4 1 4 3 4 4 1 4 4 1 3 3 3 1 1]\n",
      "Imagen shape: (32, 224, 224, 3)\n",
      "Etiqueta: [1 3 1 1 1 1 1 1 4 0 3 4 1 2 3 1 1 5 2 1 4 2 3 3 4 4 2 2 1 1 1 2]\n",
      "Imagen shape: (32, 224, 224, 3)\n",
      "Etiqueta: [2 4 1 1 2 3 3 3 4 3 1 0 1 1 3 5 3 5 2 4 2 1 3 1 1 0 0 4 3 4 1 0]\n"
     ]
    }
   ],
   "source": [
    "train_ds = tf.keras.utils.image_dataset_from_directory(\n",
    "    train_dir,\n",
    "    validation_split=0.2,\n",
    "    subset=\"training\",\n",
    "    seed=seed,\n",
    "    image_size=img_size,\n",
    "    batch_size=batch_size\n",
    ")\n",
    "\n",
    "val_ds = tf.keras.utils.image_dataset_from_directory(\n",
    "    train_dir,\n",
    "    validation_split=0.2,\n",
    "    subset=\"validation\",\n",
    "    seed=seed,\n",
    "    image_size=img_size,\n",
    "    batch_size=batch_size\n",
    ")\n",
    "# Obtener número de clases\n",
    "class_names = train_ds.class_names\n",
    "num_classes = len(class_names)\n",
    "print(\"Clases:\", class_names)\n",
    "\n",
    "#Imprimir dataset\n",
    "for x, y in train_ds.take(5):\n",
    "    print(\"Imagen shape:\", x.shape)\n",
    "    print(\"Etiqueta:\", y.numpy())\n"
   ]
  },
  {
   "cell_type": "code",
   "execution_count": 6,
   "id": "3aa75101",
   "metadata": {},
   "outputs": [
    {
     "name": "stdout",
     "output_type": "stream",
     "text": [
      "Pesos por clase: {0: 2.396618582286335, 1: 0.4733762254901961, 2: 1.2654381654381655, 3: 0.8583888888888889, 4: 0.7593002113125952, 5: 5.049346405228758}\n"
     ]
    }
   ],
   "source": [
    "\n",
    "# ---------------------------------------\n",
    "# CÁLCULO DE PESOS POR CLASE\n",
    "# ---------------------------------------\n",
    "from sklearn.utils.class_weight import compute_class_weight\n",
    "\n",
    "# Contar imágenes por clase\n",
    "image_counts = []\n",
    "for class_name in class_names:\n",
    "    class_path = os.path.join(train_dir, class_name)\n",
    "    count = len(os.listdir(class_path))\n",
    "    image_counts.append(count)\n",
    "\n",
    "# Crear vector de etiquetas reales\n",
    "y_train = []\n",
    "for i, count in enumerate(image_counts):\n",
    "    y_train += [i] * count\n",
    "y_train = np.array(y_train)\n",
    "\n",
    "# Calcular pesos\n",
    "weights = compute_class_weight(class_weight='balanced', classes=np.unique(y_train), y=y_train)\n",
    "class_weight = dict(enumerate(weights))\n",
    "\n",
    "print(\"Pesos por clase:\", class_weight)"
   ]
  },
  {
   "cell_type": "code",
   "execution_count": 7,
   "id": "90e25e87-7c10-4300-82c7-49a7d78c3de7",
   "metadata": {},
   "outputs": [
    {
     "name": "stdout",
     "output_type": "stream",
     "text": [
      "tf.Tensor(\n",
      "[[ 0.  1.  1.  1.  1.  1.]\n",
      " [ 1.  0.  1.  1.  1.  1.]\n",
      " [ 5.  5.  0.  1.  1.  5.]\n",
      " [ 5.  5.  1.  0.  1.  5.]\n",
      " [10. 10.  5.  5.  0. 10.]\n",
      " [ 1.  1.  1.  1.  1.  0.]], shape=(6, 6), dtype=float32)\n"
     ]
    }
   ],
   "source": [
    "# ----------------------------\n",
    "# PENALIZACIÓN EN CLASES CON MAYOR RIESGO\n",
    "# ----------------------------\n",
    "\n",
    "high_danger = {4}\n",
    "\n",
    "moderate_danger = {2, 3}\n",
    "\n",
    "low_danger = set(range(num_classes)) - high_danger - moderate_danger\n",
    "\n",
    "cost_matrix = tf.ones([num_classes, num_classes])           # baseline cost = 1\n",
    "\n",
    "cost_matrix = tf.where(tf.eye(num_classes) == 1, 0., cost_matrix)     # zero on the diagonal\n",
    "\n",
    "# Penalizes False Negatives for the high and moderate danger\n",
    "\n",
    "for high in high_danger:\n",
    "    for low in low_danger:\n",
    "        cost_matrix = tf.tensor_scatter_nd_update(cost_matrix,\n",
    "                                        indices=[[high, low]],\n",
    "                                        updates=[10.0]) \n",
    "        \n",
    "    for mid in moderate_danger:\n",
    "        cost_matrix = tf.tensor_scatter_nd_update(cost_matrix,\n",
    "                                        indices=[[high, mid]],\n",
    "                                        updates=[5.0]) \n",
    "        \n",
    "for mid in moderate_danger:\n",
    "    for low in low_danger:\n",
    "        cost_matrix = tf.tensor_scatter_nd_update(cost_matrix,\n",
    "                                        indices=[[mid, low]],\n",
    "                                        updates=[5.0])\n",
    "        \n",
    "print(cost_matrix)\n"
   ]
  },
  {
   "cell_type": "code",
   "execution_count": 8,
   "id": "2a1ee623-642b-4709-8551-38ccf4af4f17",
   "metadata": {},
   "outputs": [],
   "source": [
    "def cost_matrix_sparse_categorical_crossentropy_loss(y_true, y_pred, alpha=1.0, debug=False):\n",
    "    if y_true.dtype.is_integer:\n",
    "            y_true = tf.one_hot(tf.cast(y_true, tf.int32), depth=num_classes)\n",
    "    if y_true.ndim == 1:                      # still a vector? → make it (1,K)\n",
    "        y_true = tf.expand_dims(y_true, 0)\n",
    "    # The cost of this prediction, using the row of the matrix\n",
    "    row_cost = tf.matmul(y_true, cost_matrix) \n",
    "    if debug:\n",
    "        print(row_cost)\n",
    "    # Sums all the costs, 0s and the cost of the true prediction, multiplied by the \n",
    "    exp_cost = tf.reduce_sum(row_cost * y_pred, axis=-1)\n",
    "    if debug:\n",
    "        print(exp_cost)\n",
    "\n",
    "    y_pred = tf.nn.softmax(y_pred)\n",
    "    cross_entro = tf.keras.losses.categorical_crossentropy(y_true, y_pred)\n",
    "    return cross_entro + alpha * exp_cost\n",
    "    "
   ]
  },
  {
   "cell_type": "code",
   "execution_count": 9,
   "id": "ae616aea-b9e6-4931-a683-1efdd65774b9",
   "metadata": {},
   "outputs": [
    {
     "name": "stdout",
     "output_type": "stream",
     "text": [
      "2\n",
      "2\n",
      "tf.Tensor([[10. 10.  5.  5.  0. 10.]], shape=(1, 6), dtype=float32)\n",
      "tf.Tensor([5.3], shape=(1,), dtype=float32)\n",
      "tf.Tensor([6.801526], shape=(1,), dtype=float32)\n"
     ]
    }
   ],
   "source": [
    "y_true = tf.convert_to_tensor([[0.,0.,0.,0.,1.,0.]], dtype=tf.float32)\n",
    "print(y_true.ndim)\n",
    "y_pred = tf.convert_to_tensor([[0.2,0.2,0.,0.,0.47,0.13]], dtype=tf.float32)\n",
    "print(y_pred.ndim)\n",
    "loss = cost_matrix_sparse_categorical_crossentropy_loss(y_true, y_pred, debug=True)\n",
    "print(loss)\n"
   ]
  },
  {
   "cell_type": "code",
   "execution_count": 10,
   "id": "8f2eb725",
   "metadata": {},
   "outputs": [],
   "source": [
    "# Optimización de rendimiento\n",
    "AUTOTUNE = tf.data.AUTOTUNE\n",
    "\n",
    "train_ds = train_ds.map(lambda x, y: (preprocess_input(x), y), num_parallel_calls=tf.data.AUTOTUNE)\n",
    "val_ds = val_ds.map(lambda x, y: (preprocess_input(x), y), num_parallel_calls=tf.data.AUTOTUNE)\n",
    "\n",
    "# Configuración de caché y prefetch\n",
    "train_ds = train_ds.cache().prefetch(buffer_size=AUTOTUNE)\n",
    "val_ds = val_ds.cache().prefetch(buffer_size=AUTOTUNE)\n"
   ]
  },
  {
   "cell_type": "code",
   "execution_count": null,
   "id": "4e96e6cc",
   "metadata": {},
   "outputs": [],
   "source": [
    "# Modelo base (preentrenado)\n",
    "base_model = EfficientNetB0(weights='imagenet', include_top=False, input_shape=(224, 224, 3))\n",
    "base_model.trainable = False  # congelamos capas base\n",
    "\n",
    "data_augmentation = tf.keras.Sequential([\n",
    "    layers.RandomFlip(\"horizontal\"),\n",
    "    layers.RandomFlip(\"vertical\"),\n",
    "    layers.RandomRotation(0.1),\n",
    "    layers.RandomZoom(0.1),\n",
    "    layers.GaussianNoise(0.2)\n",
    "])\n",
    "\n",
    "\n",
    "# Modelo completo (sin preprocessing dentro)\n",
    "model = models.Sequential([\n",
    "    base_model,\n",
    "    data_augmentation,\n",
    "    layers.GlobalAveragePooling2D(),\n",
    "    layers.Dense(256, activation='relu'),\n",
    "    layers.Dropout(0.3),\n",
    "    layers.Dense(num_classes, activation='softmax')\n",
    "])\n",
    "\n",
    "# Compilar modelo\n",
    "model.compile(\n",
    "    optimizer='adam',\n",
    "    loss='sparse_categorical_crossentropy',#\n",
    "    metrics=['accuracy']\n",
    ")"
   ]
  },
  {
   "cell_type": "code",
   "execution_count": 16,
   "id": "9868961b",
   "metadata": {},
   "outputs": [
    {
     "name": "stdout",
     "output_type": "stream",
     "text": [
      "Epoch 1/100\n",
      "773/773 [==============================] - 120s 146ms/step - loss: 0.9325 - accuracy: 0.6269 - val_loss: 0.7622 - val_accuracy: 0.6887\n",
      "Epoch 2/100\n",
      "773/773 [==============================] - 106s 137ms/step - loss: 0.7522 - accuracy: 0.7000 - val_loss: 0.6961 - val_accuracy: 0.7278\n",
      "Epoch 3/100\n",
      "773/773 [==============================] - 107s 139ms/step - loss: 0.6640 - accuracy: 0.7317 - val_loss: 0.6531 - val_accuracy: 0.7443\n",
      "Epoch 4/100\n",
      "773/773 [==============================] - 106s 137ms/step - loss: 0.5947 - accuracy: 0.7526 - val_loss: 0.6091 - val_accuracy: 0.7673\n",
      "Epoch 5/100\n",
      "773/773 [==============================] - 122s 158ms/step - loss: 0.5463 - accuracy: 0.7722 - val_loss: 0.5935 - val_accuracy: 0.7752\n",
      "Epoch 6/100\n",
      "773/773 [==============================] - 105s 136ms/step - loss: 0.5025 - accuracy: 0.7886 - val_loss: 0.5686 - val_accuracy: 0.7893\n",
      "Epoch 7/100\n",
      "773/773 [==============================] - 105s 136ms/step - loss: 0.4579 - accuracy: 0.8073 - val_loss: 0.5587 - val_accuracy: 0.7998\n",
      "Epoch 8/100\n",
      "773/773 [==============================] - 105s 136ms/step - loss: 0.4341 - accuracy: 0.8144 - val_loss: 0.5520 - val_accuracy: 0.8057\n",
      "Epoch 9/100\n",
      "773/773 [==============================] - 112s 144ms/step - loss: 0.4011 - accuracy: 0.8277 - val_loss: 0.5429 - val_accuracy: 0.8044\n",
      "Epoch 10/100\n",
      "773/773 [==============================] - 107s 138ms/step - loss: 0.3810 - accuracy: 0.8368 - val_loss: 0.5220 - val_accuracy: 0.8133\n",
      "Epoch 11/100\n",
      "773/773 [==============================] - 101s 131ms/step - loss: 0.3524 - accuracy: 0.8461 - val_loss: 0.5251 - val_accuracy: 0.8193\n",
      "Epoch 12/100\n",
      "773/773 [==============================] - 99s 128ms/step - loss: 0.3444 - accuracy: 0.8496 - val_loss: 0.5229 - val_accuracy: 0.8222\n",
      "Epoch 13/100\n",
      "773/773 [==============================] - 106s 137ms/step - loss: 0.3344 - accuracy: 0.8525 - val_loss: 0.5080 - val_accuracy: 0.8277\n",
      "Epoch 14/100\n",
      "773/773 [==============================] - 111s 143ms/step - loss: 0.3127 - accuracy: 0.8638 - val_loss: 0.5238 - val_accuracy: 0.8264\n",
      "Epoch 15/100\n",
      "773/773 [==============================] - 110s 143ms/step - loss: 0.2978 - accuracy: 0.8688 - val_loss: 0.5164 - val_accuracy: 0.8330\n",
      "Epoch 16/100\n",
      "773/773 [==============================] - 107s 139ms/step - loss: 0.2962 - accuracy: 0.8722 - val_loss: 0.4992 - val_accuracy: 0.8403\n",
      "Epoch 17/100\n",
      "773/773 [==============================] - 111s 144ms/step - loss: 0.2770 - accuracy: 0.8782 - val_loss: 0.5145 - val_accuracy: 0.8340\n",
      "Epoch 18/100\n",
      "773/773 [==============================] - 107s 139ms/step - loss: 0.2689 - accuracy: 0.8816 - val_loss: 0.5122 - val_accuracy: 0.8366\n",
      "Epoch 19/100\n",
      "773/773 [==============================] - 107s 139ms/step - loss: 0.2670 - accuracy: 0.8839 - val_loss: 0.5185 - val_accuracy: 0.8387\n",
      "Epoch 20/100\n",
      "773/773 [==============================] - 110s 143ms/step - loss: 0.2566 - accuracy: 0.8874 - val_loss: 0.5257 - val_accuracy: 0.8371\n",
      "Epoch 21/100\n",
      "773/773 [==============================] - 105s 136ms/step - loss: 0.2441 - accuracy: 0.8931 - val_loss: 0.5294 - val_accuracy: 0.8379\n"
     ]
    }
   ],
   "source": [
    "# Callbacks\n",
    "callbacks = [\n",
    "    EarlyStopping(patience=5, restore_best_weights=True),\n",
    "    ModelCheckpoint(model_path, save_best_only=True)\n",
    "]\n",
    "\n",
    "# Entrenamiento\n",
    "history = model.fit(\n",
    "    train_ds,\n",
    "    validation_data=val_ds,\n",
    "    epochs=epochs,\n",
    "    callbacks=callbacks,\n",
    "    class_weight=class_weight \n",
    ")\n"
   ]
  },
  {
   "cell_type": "code",
   "execution_count": 17,
   "id": "cd39bb54",
   "metadata": {},
   "outputs": [
    {
     "name": "stdout",
     "output_type": "stream",
     "text": [
      "194/194 [==============================] - 13s 63ms/step\n",
      "\n",
      "🧾 Clasification Report:\n",
      "\n",
      "              precision    recall  f1-score   support\n",
      "\n",
      "        Acne       0.82      0.87      0.84       397\n",
      "      Benign       0.91      0.86      0.88      2161\n",
      "      Eczema       0.78      0.87      0.83       831\n",
      "  Infectious       0.81      0.84      0.83      1238\n",
      "      Malign       0.83      0.81      0.82      1338\n",
      "Pigmentation       0.72      0.66      0.69       215\n",
      "\n",
      "    accuracy                           0.84      6180\n",
      "   macro avg       0.81      0.82      0.81      6180\n",
      "weighted avg       0.84      0.84      0.84      6180\n",
      "\n"
     ]
    },
    {
     "data": {
      "image/png": "[encoded data removed]",
      "text/plain": [
       "<Figure size 1400x1000 with 2 Axes>"
      ]
     },
     "metadata": {},
     "output_type": "display_data"
    }
   ],
   "source": [
    "import os\n",
    "import numpy as np\n",
    "import tensorflow as tf\n",
    "import matplotlib.pyplot as plt\n",
    "import seaborn as sns\n",
    "from sklearn.metrics import classification_report, confusion_matrix\n",
    "\"\"\"\n",
    "# Rutas\n",
    "test_dir = '../dataset/multi-6/test'\n",
    "\n",
    "# Cargar modelo entrenado\n",
    "model = tf.keras.models.load_model(model_path)\n",
    "\n",
    "# Cargar dataset de test\n",
    "test_ds = tf.keras.utils.image_dataset_from_directory(\n",
    "    test_dir,\n",
    "    batch_size=batch_size,\n",
    "    image_size=img_size,\n",
    "    shuffle=False  # MUY IMPORTANTE para alinear predicciones con etiquetas\n",
    ")\n",
    "\n",
    "# Obtener nombres de clase\n",
    "class_names = test_ds.class_names\n",
    "num_classes = len(class_names)\n",
    "\n",
    "# Prefetch para acelerar\n",
    "AUTOTUNE = tf.data.AUTOTUNE\n",
    "test_ds = test_ds.cache().prefetch(buffer_size=AUTOTUNE)\n",
    "\n",
    "# Obtener predicciones\n",
    "y_pred_probs = model.predict(test_ds)\n",
    "y_pred = np.argmax(y_pred_probs, axis=1)\n",
    "\n",
    "# Obtener etiquetas reales\n",
    "y_true = np.concatenate([y.numpy() for x, y in test_ds])\n",
    "\n",
    "# Reporte de clasificación\n",
    "print(\"🧾 Clasification Report:\\n\")\n",
    "print(classification_report(y_true, y_pred, target_names=class_names))\n",
    "\n",
    "# Matriz de confusión\n",
    "cm = confusion_matrix(y_true, y_pred)\n",
    "\n",
    "plt.figure(figsize=(14, 10))\n",
    "sns.heatmap(cm, annot=True, fmt='d', xticklabels=class_names, yticklabels=class_names, cmap='Blues')\n",
    "plt.xlabel('Predicción')\n",
    "plt.ylabel('Real')\n",
    "plt.title('Matriz de Confusión')\n",
    "plt.xticks(rotation=90)\n",
    "plt.yticks(rotation=0)\n",
    "plt.tight_layout()\n",
    "plt.show()\n",
    "\n",
    "\"\"\"\n",
    "y_pred_probs = model.predict(val_ds)\n",
    "y_pred = np.argmax(y_pred_probs, axis=1)\n",
    "\n",
    "y_true = np.concatenate([y.numpy() for x, y in val_ds])\n",
    "\n",
    "print(\"\\n🧾 Clasification Report:\\n\")\n",
    "print(classification_report(y_true, y_pred, target_names=class_names))\n",
    "\n",
    "cm = confusion_matrix(y_true, y_pred)\n",
    "\n",
    "plt.figure(figsize=(14, 10))\n",
    "sns.heatmap(cm, annot=True, fmt='d', xticklabels=class_names, yticklabels=class_names, cmap='Blues')\n",
    "plt.xlabel('Predicción')\n",
    "plt.ylabel('Real')\n",
    "plt.title('Matriz de Confusión')\n",
    "plt.xticks(rotation=90)\n",
    "plt.yticks(rotation=0)\n",
    "plt.tight_layout()\n",
    "plt.show()"
   ]
  },
  {
   "cell_type": "code",
   "execution_count": null,
   "id": "8bebb8d5-0172-4c82-a679-0d6a1e255370",
   "metadata": {},
   "outputs": [],
   "source": []
  }
 ],
 "metadata": {
  "kernelspec": {
   "display_name": "Python 3 (ipykernel)",
   "language": "python",
   "name": "python3"
  },
  "language_info": {
   "codemirror_mode": {
    "name": "ipython",
    "version": 3
   },
   "file_extension": ".py",
   "mimetype": "text/x-python",
   "name": "python",
   "nbconvert_exporter": "python",
   "pygments_lexer": "ipython3",
   "version": "3.10.11"
  }
 },
 "nbformat": 4,
 "nbformat_minor": 5
}
