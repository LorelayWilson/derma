{
 "cells": [
  {
   "cell_type": "code",
   "execution_count": 2,
   "id": "aaf93f3c",
   "metadata": {},
   "outputs": [],
   "source": [
    "import os\n",
    "import numpy as np\n",
    "import tensorflow as tf\n",
    "import matplotlib.pyplot as plt\n",
    "from tensorflow.keras import layers, models\n",
    "#from tensorflow.keras.applications import EfficientNetB0\n",
    "from tensorflow.keras.applications import MobileNetV2\n",
    "from tensorflow.keras.applications.efficientnet import preprocess_input\n",
    "from tensorflow.keras.callbacks import EarlyStopping, ModelCheckpoint\n",
    "from tensorflow.keras import mixed_precision"
   ]
  },
  {
   "cell_type": "code",
   "execution_count": 6,
   "id": "9d692f57",
   "metadata": {},
   "outputs": [
    {
     "name": "stdout",
     "output_type": "stream",
     "text": [
      "[name: \"/device:CPU:0\"\n",
      "device_type: \"CPU\"\n",
      "memory_limit: 268435456\n",
      "locality {\n",
      "}\n",
      "incarnation: 8339733954552154509\n",
      "xla_global_id: -1\n",
      ", name: \"/device:GPU:0\"\n",
      "device_type: \"GPU\"\n",
      "memory_limit: 4133486592\n",
      "locality {\n",
      "  bus_id: 1\n",
      "  links {\n",
      "  }\n",
      "}\n",
      "incarnation: 7762294654368041772\n",
      "physical_device_desc: \"device: 0, name: NVIDIA GeForce RTX 2060, pci bus id: 0000:26:00.0, compute capability: 7.5\"\n",
      "xla_global_id: 416903419\n",
      "]\n"
     ]
    }
   ],
   "source": [
    "from tensorflow.python.client import device_lib\n",
    "print(device_lib.list_local_devices())"
   ]
  },
  {
   "cell_type": "code",
   "execution_count": 7,
   "id": "36f21645",
   "metadata": {},
   "outputs": [
    {
     "name": "stdout",
     "output_type": "stream",
     "text": [
      "GPUs disponibles: [PhysicalDevice(name='/physical_device:GPU:0', device_type='GPU')]\n"
     ]
    }
   ],
   "source": [
    "print(\"GPUs disponibles:\", tf.config.list_physical_devices('GPU'))"
   ]
  },
  {
   "cell_type": "markdown",
   "id": "a0f00d67",
   "metadata": {},
   "source": [
    "# -------------------------------------\n",
    "# 2. CONFIGURACIÓN\n",
    "# -------------------------------------"
   ]
  },
  {
   "cell_type": "code",
   "execution_count": 3,
   "id": "e552a2de",
   "metadata": {},
   "outputs": [
    {
     "name": "stdout",
     "output_type": "stream",
     "text": [
      "INFO:tensorflow:Mixed precision compatibility check (mixed_float16): OK\n",
      "Your GPU will likely run quickly with dtype policy mixed_float16 as it has compute capability of at least 7.0. Your GPU: NVIDIA GeForce RTX 2060, compute capability 7.5\n"
     ]
    }
   ],
   "source": [
    "mixed_precision.set_global_policy('mixed_float16')\n",
    "\n",
    "# Parámetros\n",
    "img_size = (224, 224)\n",
    "batch_size = 32\n",
    "epochs = 100\n",
    "seed = 123\n",
    "train_dir = '../dataset/multi-6/train'\n",
    "model_path = 'mobilenetv2_derma_v1.keras'"
   ]
  },
  {
   "cell_type": "markdown",
   "id": "fcd99e43",
   "metadata": {},
   "source": [
    "# -------------------------------------\n",
    "# 3. DATA AUGMENTATION Y GENERADORES\n",
    "# -------------------------------------"
   ]
  },
  {
   "cell_type": "code",
   "execution_count": 10,
   "id": "850c7dc8",
   "metadata": {},
   "outputs": [
    {
     "name": "stdout",
     "output_type": "stream",
     "text": [
      "Found 30901 files belonging to 6 classes.\n",
      "Using 24721 files for training.\n",
      "Found 30901 files belonging to 6 classes.\n",
      "Using 6180 files for validation.\n",
      "Clases: ['Acne', 'Benign', 'Eczema', 'Infectious', 'Malign', 'Pigmentation']\n",
      "Imagen shape: (32, 224, 224, 3)\n",
      "Etiqueta: [0 1 3 1 1 3 0 4 2 2 1 3 1 1 5 1 3 4 1 1 1 3 1 1 1 1 2 1 2 3 1 0]\n",
      "Imagen shape: (32, 224, 224, 3)\n",
      "Etiqueta: [0 1 5 1 1 1 4 3 1 0 3 1 4 1 3 4 4 1 2 1 5 4 4 4 3 1 2 0 4 1 1 4]\n",
      "Imagen shape: (32, 224, 224, 3)\n",
      "Etiqueta: [1 0 0 4 1 3 1 4 1 3 3 4 5 4 3 4 2 4 1 4 3 4 4 1 4 4 1 3 3 3 1 1]\n",
      "Imagen shape: (32, 224, 224, 3)\n",
      "Etiqueta: [1 3 1 1 1 1 1 1 4 0 3 4 1 2 3 1 1 5 2 1 4 2 3 3 4 4 2 2 1 1 1 2]\n",
      "Imagen shape: (32, 224, 224, 3)\n",
      "Etiqueta: [2 4 1 1 2 3 3 3 4 3 1 0 1 1 3 5 3 5 2 4 2 1 3 1 1 0 0 4 3 4 1 0]\n"
     ]
    }
   ],
   "source": [
    "train_ds = tf.keras.utils.image_dataset_from_directory(\n",
    "    train_dir,\n",
    "    validation_split=0.2,\n",
    "    subset=\"training\",\n",
    "    seed=seed,\n",
    "    image_size=img_size,\n",
    "    batch_size=batch_size\n",
    ")\n",
    "\n",
    "val_ds = tf.keras.utils.image_dataset_from_directory(\n",
    "    train_dir,\n",
    "    validation_split=0.2,\n",
    "    subset=\"validation\",\n",
    "    seed=seed,\n",
    "    image_size=img_size,\n",
    "    batch_size=batch_size\n",
    ")\n",
    "# Obtener número de clases\n",
    "class_names = train_ds.class_names\n",
    "num_classes = len(class_names)\n",
    "print(\"Clases:\", class_names)\n",
    "\n",
    "#Imprimir dataset\n",
    "for x, y in train_ds.take(5):\n",
    "    print(\"Imagen shape:\", x.shape)\n",
    "    print(\"Etiqueta:\", y.numpy())\n"
   ]
  },
  {
   "cell_type": "code",
   "execution_count": 13,
   "id": "3aa75101",
   "metadata": {},
   "outputs": [
    {
     "name": "stdout",
     "output_type": "stream",
     "text": [
      "Pesos por clase: {0: 2.396618582286335, 1: 0.4733762254901961, 2: 1.2654381654381655, 3: 0.8583888888888889, 4: 0.7593002113125952, 5: 5.049346405228758}\n"
     ]
    }
   ],
   "source": [
    "\n",
    "# ---------------------------------------\n",
    "# CÁLCULO DE PESOS POR CLASE\n",
    "# ---------------------------------------\n",
    "from sklearn.utils.class_weight import compute_class_weight\n",
    "\n",
    "# Contar imágenes por clase\n",
    "image_counts = []\n",
    "for class_name in class_names:\n",
    "    class_path = os.path.join(train_dir, class_name)\n",
    "    count = len(os.listdir(class_path))\n",
    "    image_counts.append(count)\n",
    "\n",
    "# Crear vector de etiquetas reales\n",
    "y_train = []\n",
    "for i, count in enumerate(image_counts):\n",
    "    y_train += [i] * count\n",
    "y_train = np.array(y_train)\n",
    "\n",
    "# Calcular pesos\n",
    "weights = compute_class_weight(class_weight='balanced', classes=np.unique(y_train), y=y_train)\n",
    "class_weight = dict(enumerate(weights))\n",
    "\n",
    "print(\"Pesos por clase:\", class_weight)"
   ]
  },
  {
   "cell_type": "code",
   "execution_count": 14,
   "id": "249f6d03",
   "metadata": {},
   "outputs": [
    {
     "name": "stdout",
     "output_type": "stream",
     "text": [
      "tf.Tensor(\n",
      "[[ 0.  1.  1.  1.  1.  1.]\n",
      " [ 1.  0.  1.  1.  1.  1.]\n",
      " [ 5.  5.  0.  1.  1.  5.]\n",
      " [ 5.  5.  1.  0.  1.  5.]\n",
      " [10. 10.  5.  5.  0. 10.]\n",
      " [ 1.  1.  1.  1.  1.  0.]], shape=(6, 6), dtype=float32)\n"
     ]
    }
   ],
   "source": [
    "# ----------------------------\n",
    "# PENALIZACIÓN EN CLASES CON MAYOR RIESGO\n",
    "# ----------------------------\n",
    "\n",
    "high_danger = {4}\n",
    "\n",
    "moderate_danger = {2, 3}\n",
    "\n",
    "low_danger = set(range(num_classes)) - high_danger - moderate_danger\n",
    "\n",
    "cost_matrix = tf.ones([num_classes, num_classes])           # baseline cost = 1\n",
    "\n",
    "cost_matrix = tf.where(tf.eye(num_classes) == 1, 0., cost_matrix)     # zero on the diagonal\n",
    "\n",
    "# Penalizes False Negatives for the high and moderate danger\n",
    "\n",
    "for high in high_danger:\n",
    "    for low in low_danger:\n",
    "        cost_matrix = tf.tensor_scatter_nd_update(cost_matrix,\n",
    "                                        indices=[[high, low]],\n",
    "                                        updates=[10.0]) \n",
    "        \n",
    "    for mid in moderate_danger:\n",
    "        cost_matrix = tf.tensor_scatter_nd_update(cost_matrix,\n",
    "                                        indices=[[high, mid]],\n",
    "                                        updates=[5.0]) \n",
    "        \n",
    "for mid in moderate_danger:\n",
    "    for low in low_danger:\n",
    "        cost_matrix = tf.tensor_scatter_nd_update(cost_matrix,\n",
    "                                        indices=[[mid, low]],\n",
    "                                        updates=[5.0])\n",
    "        \n",
    "print(cost_matrix)\n"
   ]
  },
  {
   "cell_type": "code",
   "execution_count": 15,
   "id": "aabb8131",
   "metadata": {},
   "outputs": [],
   "source": [
    "def cost_matrix_sparse_categorical_crossentropy_loss(y_true, y_pred, alpha=1.0, debug=False):\n",
    "    if y_true.dtype.is_integer:\n",
    "            y_true = tf.one_hot(tf.cast(y_true, tf.int32), depth=num_classes)\n",
    "\n",
    "    # The cost of this prediction, using the row of the matrix\n",
    "    row_cost = tf.matmul(y_true, cost_matrix) \n",
    "    if debug:\n",
    "        print(row_cost)\n",
    "    # Sums all the costs, 0s and the cost of the true prediction, multiplied by the \n",
    "    exp_cost = tf.reduce_sum(row_cost * y_pred, axis=-1)\n",
    "    if debug:\n",
    "        print(exp_cost)\n",
    "\n",
    "    y_pred = tf.nn.softmax(y_pred)\n",
    "    cross_entro = tf.keras.losses.categorical_crossentropy(y_true, y_pred)\n",
    "    return cross_entro + alpha * exp_cost\n",
    "    "
   ]
  },
  {
   "cell_type": "code",
   "execution_count": 16,
   "id": "3cfe2999",
   "metadata": {},
   "outputs": [
    {
     "name": "stdout",
     "output_type": "stream",
     "text": [
      "2\n",
      "2\n",
      "tf.Tensor([[10. 10.  5.  5.  0. 10.]], shape=(1, 6), dtype=float32)\n",
      "tf.Tensor([5.3], shape=(1,), dtype=float32)\n",
      "tf.Tensor([6.801526], shape=(1,), dtype=float32)\n"
     ]
    }
   ],
   "source": [
    "y_true = tf.convert_to_tensor([[0.,0.,0.,0.,1.,0.]], dtype=tf.float32)\n",
    "print(y_true.ndim)\n",
    "y_pred = tf.convert_to_tensor([[0.2,0.2,0.,0.,0.47,0.13]], dtype=tf.float32)\n",
    "print(y_pred.ndim)\n",
    "loss = cost_matrix_sparse_categorical_crossentropy_loss(y_true, y_pred, debug=True)\n",
    "print(loss)\n"
   ]
  },
  {
   "cell_type": "code",
   "execution_count": 17,
   "id": "8f2eb725",
   "metadata": {},
   "outputs": [],
   "source": [
    "# Optimización de rendimiento\n",
    "AUTOTUNE = tf.data.AUTOTUNE\n",
    "\n",
    "train_ds = train_ds.map(lambda x, y: (preprocess_input(x), y), num_parallel_calls=tf.data.AUTOTUNE)\n",
    "val_ds = val_ds.map(lambda x, y: (preprocess_input(x), y), num_parallel_calls=tf.data.AUTOTUNE)\n",
    "\n",
    "# Configuración de caché y prefetch\n",
    "train_ds = train_ds.cache().prefetch(buffer_size=AUTOTUNE)\n",
    "val_ds = val_ds.cache().prefetch(buffer_size=AUTOTUNE)\n"
   ]
  },
  {
   "cell_type": "code",
   "execution_count": 18,
   "id": "4e96e6cc",
   "metadata": {},
   "outputs": [
    {
     "name": "stdout",
     "output_type": "stream",
     "text": [
      "Downloading data from https://storage.googleapis.com/tensorflow/keras-applications/mobilenet_v2/mobilenet_v2_weights_tf_dim_ordering_tf_kernels_1.0_224_no_top.h5\n",
      "9406464/9406464 [==============================] - 0s 0us/step\n"
     ]
    }
   ],
   "source": [
    "# Modelo base (preentrenado)\n",
    "base_model = MobileNetV2(weights='imagenet', include_top=False, input_shape=(224, 224, 3))\n",
    "base_model.trainable = False  # congelamos capas base\n",
    "\n",
    "data_augmentation = tf.keras.Sequential([\n",
    "    layers.RandomFlip(\"horizontal\"),\n",
    "    layers.RandomFlip(\"vertical\"),\n",
    "    layers.RandomRotation(0.1),\n",
    "    layers.RandomZoom(0.1),\n",
    "    layers.GaussianNoise(0.2)\n",
    "])\n",
    "\n",
    "\n",
    "# Modelo completo (sin preprocessing dentro)\n",
    "model = models.Sequential([\n",
    "    base_model,\n",
    "    data_augmentation,\n",
    "    layers.GlobalAveragePooling2D(),\n",
    "    layers.Dense(256, activation='relu'),\n",
    "    layers.Dropout(0.3),\n",
    "    layers.Dense(num_classes, activation='softmax')\n",
    "])\n",
    "\n",
    "# Compilar modelo\n",
    "model.compile(\n",
    "    optimizer='adam',\n",
    "    loss='sparse_categorical_crossentropy',\n",
    "    metrics=['accuracy']\n",
    ")"
   ]
  },
  {
   "cell_type": "code",
   "execution_count": 19,
   "id": "9868961b",
   "metadata": {},
   "outputs": [
    {
     "name": "stdout",
     "output_type": "stream",
     "text": [
      "Epoch 1/100\n",
      "WARNING:tensorflow:Using a while_loop for converting RngReadAndSkip cause there is no registered converter for this op.\n",
      "WARNING:tensorflow:Using a while_loop for converting Bitcast cause there is no registered converter for this op.\n",
      "WARNING:tensorflow:Using a while_loop for converting Bitcast cause there is no registered converter for this op.\n",
      "WARNING:tensorflow:Using a while_loop for converting StatelessRandomUniformV2 cause there is no registered converter for this op.\n",
      "WARNING:tensorflow:Using a while_loop for converting ImageProjectiveTransformV3 cause there is no registered converter for this op.\n",
      "WARNING:tensorflow:Using a while_loop for converting RngReadAndSkip cause there is no registered converter for this op.\n",
      "WARNING:tensorflow:Using a while_loop for converting Bitcast cause there is no registered converter for this op.\n",
      "WARNING:tensorflow:Using a while_loop for converting Bitcast cause there is no registered converter for this op.\n",
      "WARNING:tensorflow:Using a while_loop for converting StatelessRandomUniformV2 cause there is no registered converter for this op.\n",
      "WARNING:tensorflow:Using a while_loop for converting ImageProjectiveTransformV3 cause there is no registered converter for this op.\n"
     ]
    },
    {
     "name": "stderr",
     "output_type": "stream",
     "text": [
      "C:\\Users\\Usuario\\AppData\\Local\\Programs\\Python\\Python310\\lib\\site-packages\\tensorflow\\python\\framework\\indexed_slices.py:444: UserWarning: Converting sparse IndexedSlices(IndexedSlices(indices=Tensor(\"gradient_tape/sequential_1/sequential/random_rotation/loop_body/GatherV2/pfor/Reshape_1:0\", shape=(None,), dtype=int32), values=Tensor(\"gradient_tape/sequential_1/sequential/random_rotation/loop_body/GatherV2/pfor/Reshape:0\", shape=(None, 7, 7, 1280), dtype=float16), dense_shape=Tensor(\"gradient_tape/sequential_1/sequential/random_rotation/loop_body/GatherV2/pfor/Cast:0\", shape=(4,), dtype=int32))) to a dense Tensor of unknown shape. This may consume a large amount of memory.\n",
      "  warnings.warn(\n"
     ]
    },
    {
     "name": "stdout",
     "output_type": "stream",
     "text": [
      "WARNING:tensorflow:Using a while_loop for converting RngReadAndSkip cause there is no registered converter for this op.\n",
      "WARNING:tensorflow:Using a while_loop for converting Bitcast cause there is no registered converter for this op.\n",
      "WARNING:tensorflow:Using a while_loop for converting Bitcast cause there is no registered converter for this op.\n",
      "WARNING:tensorflow:Using a while_loop for converting StatelessRandomUniformV2 cause there is no registered converter for this op.\n",
      "WARNING:tensorflow:Using a while_loop for converting ImageProjectiveTransformV3 cause there is no registered converter for this op.\n",
      "WARNING:tensorflow:Using a while_loop for converting RngReadAndSkip cause there is no registered converter for this op.\n",
      "WARNING:tensorflow:Using a while_loop for converting Bitcast cause there is no registered converter for this op.\n",
      "WARNING:tensorflow:Using a while_loop for converting Bitcast cause there is no registered converter for this op.\n",
      "WARNING:tensorflow:Using a while_loop for converting StatelessRandomUniformV2 cause there is no registered converter for this op.\n",
      "WARNING:tensorflow:Using a while_loop for converting ImageProjectiveTransformV3 cause there is no registered converter for this op.\n",
      "773/773 [==============================] - 215s 268ms/step - loss: 1.4062 - accuracy: 0.4304 - val_loss: 1.2661 - val_accuracy: 0.4951\n",
      "Epoch 2/100\n",
      "773/773 [==============================] - 193s 249ms/step - loss: 1.2730 - accuracy: 0.4802 - val_loss: 1.2125 - val_accuracy: 0.5081\n",
      "Epoch 3/100\n",
      "773/773 [==============================] - 192s 249ms/step - loss: 1.2287 - accuracy: 0.5001 - val_loss: 1.2272 - val_accuracy: 0.4867\n",
      "Epoch 4/100\n",
      "773/773 [==============================] - 193s 250ms/step - loss: 1.1906 - accuracy: 0.5161 - val_loss: 1.1381 - val_accuracy: 0.5372\n",
      "Epoch 5/100\n",
      "773/773 [==============================] - 191s 247ms/step - loss: 1.1596 - accuracy: 0.5306 - val_loss: 1.1331 - val_accuracy: 0.5455\n",
      "Epoch 6/100\n",
      "773/773 [==============================] - 206s 267ms/step - loss: 1.1314 - accuracy: 0.5414 - val_loss: 1.1202 - val_accuracy: 0.5553\n",
      "Epoch 7/100\n",
      "773/773 [==============================] - 198s 256ms/step - loss: 1.1146 - accuracy: 0.5438 - val_loss: 1.0943 - val_accuracy: 0.5633\n",
      "Epoch 8/100\n",
      "773/773 [==============================] - 210s 272ms/step - loss: 1.0915 - accuracy: 0.5533 - val_loss: 1.0836 - val_accuracy: 0.5718\n",
      "Epoch 9/100\n",
      "773/773 [==============================] - 211s 272ms/step - loss: 1.0748 - accuracy: 0.5595 - val_loss: 1.0985 - val_accuracy: 0.5571\n",
      "Epoch 10/100\n",
      "773/773 [==============================] - 205s 265ms/step - loss: 1.0636 - accuracy: 0.5618 - val_loss: 1.0852 - val_accuracy: 0.5657\n",
      "Epoch 11/100\n",
      "773/773 [==============================] - 206s 266ms/step - loss: 1.0420 - accuracy: 0.5699 - val_loss: 1.0689 - val_accuracy: 0.5736\n",
      "Epoch 12/100\n",
      "773/773 [==============================] - 199s 258ms/step - loss: 1.0310 - accuracy: 0.5715 - val_loss: 1.0363 - val_accuracy: 0.5824\n",
      "Epoch 13/100\n",
      "773/773 [==============================] - 195s 253ms/step - loss: 1.0131 - accuracy: 0.5797 - val_loss: 1.0480 - val_accuracy: 0.5880\n",
      "Epoch 14/100\n",
      "773/773 [==============================] - 193s 250ms/step - loss: 0.9947 - accuracy: 0.5839 - val_loss: 1.0509 - val_accuracy: 0.5851\n",
      "Epoch 15/100\n",
      "773/773 [==============================] - 196s 253ms/step - loss: 1.0041 - accuracy: 0.5799 - val_loss: 1.0464 - val_accuracy: 0.5982\n",
      "Epoch 16/100\n",
      "773/773 [==============================] - 196s 254ms/step - loss: 0.9786 - accuracy: 0.5907 - val_loss: 1.0406 - val_accuracy: 0.5879\n",
      "Epoch 17/100\n",
      "773/773 [==============================] - 200s 259ms/step - loss: 0.9689 - accuracy: 0.5945 - val_loss: 1.0247 - val_accuracy: 0.5945\n",
      "Epoch 18/100\n",
      "773/773 [==============================] - 197s 254ms/step - loss: 0.9587 - accuracy: 0.5975 - val_loss: 1.0300 - val_accuracy: 0.5971\n",
      "Epoch 19/100\n",
      "773/773 [==============================] - 195s 252ms/step - loss: 0.9460 - accuracy: 0.5984 - val_loss: 1.0303 - val_accuracy: 0.6019\n",
      "Epoch 20/100\n",
      "773/773 [==============================] - 191s 247ms/step - loss: 0.9298 - accuracy: 0.6043 - val_loss: 1.0344 - val_accuracy: 0.5921\n",
      "Epoch 21/100\n",
      "773/773 [==============================] - 199s 258ms/step - loss: 0.9316 - accuracy: 0.6007 - val_loss: 1.0170 - val_accuracy: 0.5958\n",
      "Epoch 22/100\n",
      "773/773 [==============================] - 196s 254ms/step - loss: 0.9262 - accuracy: 0.6045 - val_loss: 1.0532 - val_accuracy: 0.5830\n",
      "Epoch 23/100\n",
      "773/773 [==============================] - 192s 248ms/step - loss: 0.9122 - accuracy: 0.6074 - val_loss: 1.0442 - val_accuracy: 0.5945\n",
      "Epoch 24/100\n",
      "773/773 [==============================] - 218s 282ms/step - loss: 0.9042 - accuracy: 0.6103 - val_loss: 1.0559 - val_accuracy: 0.6015\n",
      "Epoch 25/100\n",
      "773/773 [==============================] - 203s 263ms/step - loss: 0.9015 - accuracy: 0.6115 - val_loss: 1.0099 - val_accuracy: 0.6045\n",
      "Epoch 26/100\n",
      "773/773 [==============================] - 202s 261ms/step - loss: 0.8920 - accuracy: 0.6180 - val_loss: 1.0327 - val_accuracy: 0.6008\n",
      "Epoch 27/100\n",
      "773/773 [==============================] - 203s 262ms/step - loss: 0.8873 - accuracy: 0.6179 - val_loss: 1.0619 - val_accuracy: 0.5951\n",
      "Epoch 28/100\n",
      "773/773 [==============================] - 192s 248ms/step - loss: 0.8813 - accuracy: 0.6210 - val_loss: 1.0085 - val_accuracy: 0.6089\n",
      "Epoch 29/100\n",
      "773/773 [==============================] - 195s 252ms/step - loss: 0.8724 - accuracy: 0.6201 - val_loss: 1.0302 - val_accuracy: 0.6023\n",
      "Epoch 30/100\n",
      "773/773 [==============================] - 202s 262ms/step - loss: 0.8564 - accuracy: 0.6245 - val_loss: 1.0165 - val_accuracy: 0.6063\n",
      "Epoch 31/100\n",
      "773/773 [==============================] - 202s 262ms/step - loss: 0.8587 - accuracy: 0.6267 - val_loss: 1.0375 - val_accuracy: 0.6024\n",
      "Epoch 32/100\n",
      "773/773 [==============================] - 196s 254ms/step - loss: 0.8584 - accuracy: 0.6230 - val_loss: 1.0237 - val_accuracy: 0.6089\n",
      "Epoch 33/100\n",
      "773/773 [==============================] - 193s 250ms/step - loss: 0.8507 - accuracy: 0.6251 - val_loss: 1.0264 - val_accuracy: 0.6029\n"
     ]
    }
   ],
   "source": [
    "# Callbacks\n",
    "callbacks = [\n",
    "    EarlyStopping(patience=5, restore_best_weights=True),\n",
    "    ModelCheckpoint(model_path, save_best_only=True)\n",
    "]\n",
    "\n",
    "# Entrenamiento\n",
    "history = model.fit(\n",
    "    train_ds,\n",
    "    validation_data=val_ds,\n",
    "    epochs=epochs,\n",
    "    callbacks=callbacks,\n",
    "    class_weight=class_weight \n",
    ")"
   ]
  },
  {
   "cell_type": "code",
   "execution_count": 4,
   "id": "cd39bb54",
   "metadata": {},
   "outputs": [
    {
     "name": "stdout",
     "output_type": "stream",
     "text": [
      "Found 30901 files belonging to 6 classes.\n",
      "966/966 [==============================] - 33s 31ms/step\n",
      "🧾 Clasification Report:\n",
      "\n",
      "              precision    recall  f1-score   support\n",
      "\n",
      "        Acne       0.63      0.75      0.68      2148\n",
      "      Benign       0.80      0.68      0.73     10880\n",
      "      Eczema       0.63      0.62      0.62      4070\n",
      "  Infectious       0.51      0.69      0.59      6000\n",
      "      Malign       0.71      0.63      0.67      6783\n",
      "Pigmentation       0.69      0.63      0.66      1020\n",
      "\n",
      "    accuracy                           0.67     30901\n",
      "   macro avg       0.66      0.67      0.66     30901\n",
      "weighted avg       0.69      0.67      0.67     30901\n",
      "\n"
     ]
    },
    {
     "data": {
      "image/png": "[encoded data removed]",
      "text/plain": [
       "<Figure size 1400x1000 with 2 Axes>"
      ]
     },
     "metadata": {},
     "output_type": "display_data"
    }
   ],
   "source": [
    "import os\n",
    "import numpy as np\n",
    "import tensorflow as tf\n",
    "import matplotlib.pyplot as plt\n",
    "import seaborn as sns\n",
    "from sklearn.metrics import classification_report, confusion_matrix\n",
    "\n",
    "# Rutas\n",
    "test_dir = '../dataset/multi-6/train'\n",
    "\n",
    "# Cargar modelo entrenado\n",
    "model = tf.keras.models.load_model(model_path)\n",
    "\n",
    "# Cargar dataset de test\n",
    "test_ds = tf.keras.utils.image_dataset_from_directory(\n",
    "    test_dir,\n",
    "    batch_size=batch_size,\n",
    "    image_size=img_size,\n",
    "    shuffle=False  # MUY IMPORTANTE para alinear predicciones con etiquetas\n",
    ")\n",
    "\n",
    "# Obtener nombres de clase\n",
    "class_names = test_ds.class_names\n",
    "num_classes = len(class_names)\n",
    "\n",
    "# Prefetch para acelerar\n",
    "AUTOTUNE = tf.data.AUTOTUNE\n",
    "test_ds = test_ds.cache().prefetch(buffer_size=AUTOTUNE)\n",
    "\n",
    "# Obtener predicciones\n",
    "y_pred_probs = model.predict(test_ds)\n",
    "y_pred = np.argmax(y_pred_probs, axis=1)\n",
    "\n",
    "# Obtener etiquetas reales\n",
    "y_true = np.concatenate([y.numpy() for x, y in test_ds])\n",
    "\n",
    "# Reporte de clasificación\n",
    "print(\"🧾 Clasification Report:\\n\")\n",
    "print(classification_report(y_true, y_pred, target_names=class_names))\n",
    "\n",
    "# Matriz de confusión\n",
    "cm = confusion_matrix(y_true, y_pred)\n",
    "\n",
    "plt.figure(figsize=(14, 10))\n",
    "sns.heatmap(cm, annot=True, fmt='d', xticklabels=class_names, yticklabels=class_names, cmap='Blues')\n",
    "plt.xlabel('Predicción')\n",
    "plt.ylabel('Real')\n",
    "plt.title('Matriz de Confusión')\n",
    "plt.xticks(rotation=90)\n",
    "plt.yticks(rotation=0)\n",
    "plt.tight_layout()\n",
    "plt.show()\n"
   ]
  },
  {
   "cell_type": "code",
   "execution_count": null,
   "id": "d488a5a1-ee33-4318-ad72-e860c47cca8e",
   "metadata": {},
   "outputs": [],
   "source": []
  }
 ],
 "metadata": {
  "kernelspec": {
   "display_name": "Python 3 (ipykernel)",
   "language": "python",
   "name": "python3"
  },
  "language_info": {
   "codemirror_mode": {
    "name": "ipython",
    "version": 3
   },
   "file_extension": ".py",
   "mimetype": "text/x-python",
   "name": "python",
   "nbconvert_exporter": "python",
   "pygments_lexer": "ipython3",
   "version": "3.10.11"
  }
 },
 "nbformat": 4,
 "nbformat_minor": 5
}
