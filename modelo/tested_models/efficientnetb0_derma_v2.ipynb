{
 "cells": [
  {
   "cell_type": "code",
   "execution_count": 136,
   "id": "aaf93f3c",
   "metadata": {},
   "outputs": [],
   "source": [
    "import os\n",
    "import numpy as np\n",
    "import tensorflow as tf\n",
    "import matplotlib.pyplot as plt\n",
    "from tensorflow.keras import layers, models\n",
    "from tensorflow.keras.applications import EfficientNetB0\n",
    "from tensorflow.keras.applications.efficientnet import preprocess_input\n",
    "from tensorflow.keras.callbacks import EarlyStopping, ModelCheckpoint\n",
    "from tensorflow.keras import mixed_precision"
   ]
  },
  {
   "cell_type": "markdown",
   "id": "a0f00d67",
   "metadata": {},
   "source": [
    "# -------------------------------------\n",
    "# 2. CONFIGURACIÓN\n",
    "# -------------------------------------"
   ]
  },
  {
   "cell_type": "code",
   "execution_count": 137,
   "id": "9d692f57",
   "metadata": {},
   "outputs": [
    {
     "name": "stdout",
     "output_type": "stream",
     "text": [
      "[name: \"/device:CPU:0\"\n",
      "device_type: \"CPU\"\n",
      "memory_limit: 268435456\n",
      "locality {\n",
      "}\n",
      "incarnation: 10807968147813930540\n",
      "xla_global_id: -1\n",
      "]\n",
      "2.15.0\n"
     ]
    }
   ],
   "source": [
    "from tensorflow.python.client import device_lib\n",
    "print(device_lib.list_local_devices())\n",
    "print(tf.__version__)"
   ]
  },
  {
   "cell_type": "code",
   "execution_count": 138,
   "id": "36f21645",
   "metadata": {},
   "outputs": [
    {
     "name": "stdout",
     "output_type": "stream",
     "text": [
      "GPUs disponibles: [PhysicalDevice(name='/physical_device:GPU:0', device_type='GPU')]\n"
     ]
    }
   ],
   "source": [
    "print(\"GPUs disponibles:\", tf.config.list_physical_devices('GPU'))"
   ]
  },
  {
   "cell_type": "code",
   "execution_count": 139,
   "id": "e552a2de",
   "metadata": {},
   "outputs": [
    {
     "name": "stdout",
     "output_type": "stream",
     "text": [
      "INFO:tensorflow:Mixed precision compatibility check (mixed_float16): OK\n",
      "Your GPU will likely run quickly with dtype policy mixed_float16 as it has compute capability of at least 7.0. Your GPU: NVIDIA GeForce RTX 2060, compute capability 7.5\n"
     ]
    }
   ],
   "source": [
    "mixed_precision.set_global_policy('float32')\n",
    "\n",
    "# Parámetros\n",
    "img_size = (224, 224)\n",
    "batch_size = 32\n",
    "epochs = 100\n",
    "seed = 123\n",
    "train_dir = '../dataset/multi-6/train'\n",
    "model_path = 'efficientnetb0_derma_v2.keras'"
   ]
  },
  {
   "cell_type": "markdown",
   "id": "fcd99e43",
   "metadata": {},
   "source": [
    "# -------------------------------------\n",
    "# 3. DATA AUGMENTATION Y GENERADORES\n",
    "# -------------------------------------"
   ]
  },
  {
   "cell_type": "code",
   "execution_count": 140,
   "id": "850c7dc8",
   "metadata": {},
   "outputs": [
    {
     "name": "stdout",
     "output_type": "stream",
     "text": [
      "Found 30900 files belonging to 6 classes.\n",
      "Using 24720 files for training.\n",
      "Found 30900 files belonging to 6 classes.\n",
      "Using 6180 files for validation.\n",
      "Clases: ['Acne', 'Benign', 'Eczema', 'Infectious', 'Malign', 'Pigmentation']\n",
      "Imagen shape: (32, 224, 224, 3)\n",
      "Etiqueta: [0 1 3 1 1 3 0 4 2 2 1 3 1 1 5 1 3 4 1 1 1 3 1 1 1 1 2 1 2 3 1 0]\n",
      "Imagen shape: (32, 224, 224, 3)\n",
      "Etiqueta: [0 1 5 1 1 1 4 3 1 0 3 1 4 1 3 4 4 1 2 1 5 4 4 4 3 1 2 0 4 1 1 4]\n",
      "Imagen shape: (32, 224, 224, 3)\n",
      "Etiqueta: [1 0 0 4 1 3 1 4 1 3 3 4 5 4 3 4 2 4 1 4 3 4 4 1 4 4 1 3 3 3 1 1]\n",
      "Imagen shape: (32, 224, 224, 3)\n",
      "Etiqueta: [1 3 1 1 1 1 1 1 4 0 3 4 1 2 3 1 1 5 2 1 4 2 3 3 4 4 2 2 1 1 1 2]\n",
      "Imagen shape: (32, 224, 224, 3)\n",
      "Etiqueta: [2 4 1 1 2 3 3 3 4 3 1 0 1 1 3 5 3 5 2 4 2 1 3 1 1 0 0 4 3 4 1 0]\n"
     ]
    }
   ],
   "source": [
    "train_ds = tf.keras.utils.image_dataset_from_directory(\n",
    "    train_dir,\n",
    "    validation_split=0.2,\n",
    "    subset=\"training\",\n",
    "    seed=seed,\n",
    "    image_size=img_size,\n",
    "    batch_size=batch_size\n",
    ")\n",
    "\n",
    "val_ds = tf.keras.utils.image_dataset_from_directory(\n",
    "    train_dir,\n",
    "    validation_split=0.2,\n",
    "    subset=\"validation\",\n",
    "    seed=seed,\n",
    "    image_size=img_size,\n",
    "    batch_size=batch_size\n",
    ")\n",
    "# Obtener número de clases\n",
    "class_names = train_ds.class_names\n",
    "num_classes = len(class_names)\n",
    "print(\"Clases:\", class_names)\n"
   ]
  },
  {
   "cell_type": "code",
   "execution_count": 141,
   "id": "3aa75101",
   "metadata": {},
   "outputs": [
    {
     "name": "stdout",
     "output_type": "stream",
     "text": [
      "Pesos por clase: {0: 2.3965410268341865, 1: 0.4733609068627451, 2: 1.2653972153972155, 3: 0.8583611111111111, 4: 0.7592756400805937, 5: 5.054138043833824}\n"
     ]
    }
   ],
   "source": [
    "# ---------------------------------------\n",
    "# PENALIZACIÓN ADICIONAL POR PELIGROSIDAD\n",
    "# ---------------------------------------\n",
    "# Define tus grupos\n",
    "high_danger = {4}              # Malign\n",
    "moderate_danger = {2, 3}       # Eczema, Infectious\n",
    "low_danger = set(range(num_classes)) - high_danger - moderate_danger\n",
    "\n",
    "# Define el multiplicador por peligrosidad\n",
    "danger_multipliers = {}\n",
    "for c in range(num_classes):\n",
    "    if c in high_danger:\n",
    "        danger_multipliers[c] = 3.0\n",
    "    elif c in moderate_danger:\n",
    "        danger_multipliers[c] = 2.0\n",
    "    else:\n",
    "        danger_multipliers[c] = 1.0\n",
    "\n",
    "# ---------------------------------------\n",
    "# AJUSTE FINAL DE class_weight\n",
    "# ---------------------------------------\n",
    "adjusted_class_weight = {}\n",
    "for cls, base_weight in class_weight.items():\n",
    "    adjusted_class_weight[cls] = base_weight * danger_multipliers[cls]\n",
    "\n",
    "print(\"Pesos ajustados por clase:\", adjusted_class_weight)"
   ]
  },
  {
   "cell_type": "code",
   "execution_count": 142,
   "id": "249f6d03",
   "metadata": {},
   "outputs": [
    {
     "name": "stdout",
     "output_type": "stream",
     "text": [
      "tf.Tensor(\n",
      "[[ 0.  1.  1.  1.  1.  1.]\n",
      " [ 1.  0.  1.  1.  1.  1.]\n",
      " [ 5.  5.  0.  1.  1.  5.]\n",
      " [ 5.  5.  1.  0.  1.  5.]\n",
      " [10. 10.  5.  5.  0. 10.]\n",
      " [ 1.  1.  1.  1.  1.  0.]], shape=(6, 6), dtype=float32)\n"
     ]
    }
   ],
   "source": [
    "# ----------------------------\n",
    "# PENALIZACIÓN EN CLASES CON MAYOR RIESGO\n",
    "# ----------------------------\n",
    "\n",
    "high_danger = {4} #Malign\n",
    "\n",
    "moderate_danger = {2, 3} #Eczema, Infectious\n",
    "\n",
    "low_danger = set(range(num_classes)) - high_danger - moderate_danger  #Benign, pigmentation, acne\n",
    "\n",
    "cost_matrix = tf.ones([num_classes, num_classes])           # baseline cost = 1\n",
    "\n",
    "cost_matrix = tf.where(tf.eye(num_classes) == 1, 0., cost_matrix)     # zero on the diagonal\n",
    "\n",
    "# Penalizes False Negatives for the high and moderate danger\n",
    "\n",
    "for high in high_danger:\n",
    "    for low in low_danger:\n",
    "        cost_matrix = tf.tensor_scatter_nd_update(cost_matrix,\n",
    "                                        indices=[[high, low]],\n",
    "                                        updates=[10.0]) \n",
    "        \n",
    "    for mid in moderate_danger:\n",
    "        cost_matrix = tf.tensor_scatter_nd_update(cost_matrix,\n",
    "                                        indices=[[high, mid]],\n",
    "                                        updates=[5.0]) \n",
    "        \n",
    "for mid in moderate_danger:\n",
    "    for low in low_danger:\n",
    "        cost_matrix = tf.tensor_scatter_nd_update(cost_matrix,\n",
    "                                        indices=[[mid, low]],\n",
    "                                        updates=[5.0])\n",
    "        \n",
    "print(cost_matrix)\n"
   ]
  },
  {
   "cell_type": "code",
   "execution_count": 143,
   "id": "aabb8131",
   "metadata": {},
   "outputs": [],
   "source": [
    "def cost_matrix_sparse_categorical_crossentropy_loss(\n",
    "        y_true, y_pred, alpha=1.0):\n",
    "\n",
    "    num_classes = cost_matrix.shape[0]\n",
    "\n",
    "    # 1.  Sparse → one‑hot           (B, C)\n",
    "    y_true = tf.one_hot(tf.cast(tf.reshape(y_true, [-1]), tf.int32),\n",
    "                        depth=num_classes)\n",
    "\n",
    "    # 2.  Expected per‑class cost\n",
    "    row_cost = tf.matmul(y_true, cost_matrix)      # or use the expand‑squeeze variant\n",
    "\n",
    "    # 3.  Expected misclassification cost for each example\n",
    "    exp_cost = tf.reduce_sum(row_cost * y_pred, axis=-1)\n",
    "\n",
    "    # 4.  Standard cross‑entropy\n",
    "    ce = tf.keras.losses.categorical_crossentropy(\n",
    "            y_true, tf.nn.softmax(y_pred))\n",
    "\n",
    "    return ce + alpha * exp_cost\n",
    "    "
   ]
  },
  {
   "cell_type": "code",
   "execution_count": 144,
   "id": "3cfe2999",
   "metadata": {},
   "outputs": [
    {
     "data": {
      "text/plain": [
       "'y_true = tf.convert_to_tensor([[0.,0.,0.,0.,1.,0.]], dtype=tf.float32)\\nprint(y_true.ndim)\\ny_pred = tf.convert_to_tensor([[0.2,0.2,0.,0.,0.47,0.13]], dtype=tf.float32)\\nprint(y_pred.ndim)\\nloss = cost_matrix_sparse_categorical_crossentropy_loss(y_true, y_pred, cost_matrix)\\nprint(loss)'"
      ]
     },
     "execution_count": 144,
     "metadata": {},
     "output_type": "execute_result"
    }
   ],
   "source": [
    "\"\"\"y_true = tf.convert_to_tensor([[0.,0.,0.,0.,1.,0.]], dtype=tf.float32)\n",
    "print(y_true.ndim)\n",
    "y_pred = tf.convert_to_tensor([[0.2,0.2,0.,0.,0.47,0.13]], dtype=tf.float32)\n",
    "print(y_pred.ndim)\n",
    "loss = cost_matrix_sparse_categorical_crossentropy_loss(y_true, y_pred, cost_matrix)\n",
    "print(loss)\"\"\"\n"
   ]
  },
  {
   "cell_type": "code",
   "execution_count": 145,
   "id": "8f2eb725",
   "metadata": {},
   "outputs": [],
   "source": [
    "# Optimización de rendimiento\n",
    "AUTOTUNE = tf.data.AUTOTUNE\n",
    "\n",
    "train_ds = train_ds.map(lambda x, y: (preprocess_input(x), y), num_parallel_calls=tf.data.AUTOTUNE)\n",
    "val_ds = val_ds.map(lambda x, y: (preprocess_input(x), y), num_parallel_calls=tf.data.AUTOTUNE)\n",
    "\n",
    "# Configuración de caché y prefetch\n",
    "train_ds = train_ds.cache().prefetch(buffer_size=AUTOTUNE)\n",
    "val_ds = val_ds.cache().prefetch(buffer_size=AUTOTUNE)\n"
   ]
  },
  {
   "cell_type": "code",
   "execution_count": 146,
   "id": "4e96e6cc",
   "metadata": {},
   "outputs": [],
   "source": [
    "# Modelo base (preentrenado)\n",
    "base_model = EfficientNetB0(weights='imagenet', include_top=False, input_shape=(224, 224, 3))\n",
    "base_model.trainable = False  # congelamos capas base\n",
    "\n",
    "data_augmentation = tf.keras.Sequential([\n",
    "    layers.RandomFlip(\"horizontal\"),\n",
    "    layers.RandomRotation(0.1),\n",
    "    layers.RandomZoom(0.1),\n",
    "])\n",
    "\n",
    "\n",
    "# Modelo completo (sin preprocessing dentro)\n",
    "model = models.Sequential([\n",
    "    base_model,\n",
    "    data_augmentation,\n",
    "    layers.GlobalAveragePooling2D(),\n",
    "    layers.Dense(256, activation='relu'),\n",
    "    layers.Dropout(0.3),\n",
    "    layers.Dense(num_classes, activation='softmax')\n",
    "])\n",
    "\n",
    "# Compilar modelo\n",
    "model.compile(\n",
    "    optimizer='adam',\n",
    "    loss='sparse_categorical_crossentropy',\n",
    "    metrics=['accuracy']\n",
    ")"
   ]
  },
  {
   "cell_type": "code",
   "execution_count": null,
   "id": "9868961b",
   "metadata": {},
   "outputs": [
    {
     "name": "stdout",
     "output_type": "stream",
     "text": [
      "Epoch 1/100\n",
      "WARNING:tensorflow:From c:\\Users\\Al\\derma\\.venv\\Lib\\site-packages\\keras\\src\\utils\\tf_utils.py:492: The name tf.ragged.RaggedTensorValue is deprecated. Please use tf.compat.v1.ragged.RaggedTensorValue instead.\n",
      "\n",
      "WARNING:tensorflow:From c:\\Users\\Al\\derma\\.venv\\Lib\\site-packages\\keras\\src\\engine\\base_layer_utils.py:384: The name tf.executing_eagerly_outside_functions is deprecated. Please use tf.compat.v1.executing_eagerly_outside_functions instead.\n",
      "\n",
      "133/773 [====>.........................] - ETA: 5:00 - loss: 2.3410 - accuracy: 0.3828"
     ]
    }
   ],
   "source": [
    "# Callbacks\n",
    "callbacks = [\n",
    "    EarlyStopping(patience=5, restore_best_weights=True),\n",
    "    ModelCheckpoint(model_path, save_best_only=True)\n",
    "]\n",
    "\n",
    "# Entrenamiento\n",
    "history = model.fit(\n",
    "    train_ds,\n",
    "    validation_data=val_ds,\n",
    "    epochs=epochs,\n",
    "    callbacks=callbacks,\n",
    "    class_weight=class_weight \n",
    ")"
   ]
  },
  {
   "cell_type": "code",
   "execution_count": 6,
   "id": "cd39bb54",
   "metadata": {},
   "outputs": [
    {
     "name": "stdout",
     "output_type": "stream",
     "text": [
      "Found 30901 files belonging to 6 classes.\n",
      "\u001b[1m966/966\u001b[0m \u001b[32m━━━━━━━━━━━━━━━━━━━━\u001b[0m\u001b[37m\u001b[0m \u001b[1m2432s\u001b[0m 3s/step\n",
      "🧾 Clasification Report:\n",
      "\n",
      "              precision    recall  f1-score   support\n",
      "\n",
      "        Acne       0.92      0.94      0.93      2148\n",
      "      Benign       0.94      0.90      0.92     10880\n",
      "      Eczema       0.86      0.94      0.90      4070\n",
      "  Infectious       0.87      0.92      0.89      6000\n",
      "      Malign       0.91      0.87      0.89      6783\n",
      "Pigmentation       0.91      0.91      0.91      1020\n",
      "\n",
      "    accuracy                           0.90     30901\n",
      "   macro avg       0.90      0.91      0.91     30901\n",
      "weighted avg       0.91      0.90      0.90     30901\n",
      "\n"
     ]
    },
    {
     "data": {
      "image/png": "[encoded data removed]",
      "text/plain": [
       "<Figure size 1400x1000 with 2 Axes>"
      ]
     },
     "metadata": {},
     "output_type": "display_data"
    }
   ],
   "source": [
    "import os\n",
    "import numpy as np\n",
    "import tensorflow as tf\n",
    "import matplotlib.pyplot as plt\n",
    "import seaborn as sns\n",
    "from sklearn.metrics import classification_report, confusion_matrix\n",
    "\n",
    "# Rutas\n",
    "test_dir = '../../dataset/multi-6/test'\n",
    "\n",
    "# Cargar modelo entrenado\n",
    "model = tf.keras.models.load_model(model_path)\n",
    "\n",
    "# Cargar dataset de test\n",
    "test_ds = tf.keras.utils.image_dataset_from_directory(\n",
    "    test_dir,\n",
    "    batch_size=batch_size,\n",
    "    image_size=img_size,\n",
    "    shuffle=False  # MUY IMPORTANTE para alinear predicciones con etiquetas\n",
    ")\n",
    "\n",
    "# Obtener nombres de clase\n",
    "class_names = test_ds.class_names\n",
    "num_classes = len(class_names)\n",
    "\n",
    "# Prefetch para acelerar\n",
    "AUTOTUNE = tf.data.AUTOTUNE\n",
    "test_ds = test_ds.cache().prefetch(buffer_size=AUTOTUNE)\n",
    "\n",
    "# Obtener predicciones\n",
    "y_pred_probs = model.predict(test_ds)\n",
    "y_pred = np.argmax(y_pred_probs, axis=1)\n",
    "\n",
    "# Obtener etiquetas reales\n",
    "y_true = np.concatenate([y.numpy() for x, y in test_ds])\n",
    "\n",
    "# Reporte de clasificación\n",
    "print(\"🧾 Clasification Report:\\n\")\n",
    "print(classification_report(y_true, y_pred, target_names=class_names))\n",
    "\n",
    "# Matriz de confusión\n",
    "cm = confusion_matrix(y_true, y_pred)\n",
    "\n",
    "plt.figure(figsize=(14, 10))\n",
    "sns.heatmap(cm, annot=True, fmt='d', xticklabels=class_names, yticklabels=class_names, cmap='Blues')\n",
    "plt.xlabel('Predicción')\n",
    "plt.ylabel('Real')\n",
    "plt.title('Matriz de Confusión')\n",
    "plt.xticks(rotation=90)\n",
    "plt.yticks(rotation=0)\n",
    "plt.tight_layout()\n",
    "plt.show()\n"
   ]
  }
 ],
 "metadata": {
  "kernelspec": {
   "display_name": ".venv",
   "language": "python",
   "name": "python3"
  },
  "language_info": {
   "codemirror_mode": {
    "name": "ipython",
    "version": 3
   },
   "file_extension": ".py",
   "mimetype": "text/x-python",
   "name": "python",
   "nbconvert_exporter": "python",
   "pygments_lexer": "ipython3",
   "version": "3.11.9"
  }
 },
 "nbformat": 4,
 "nbformat_minor": 5
}
