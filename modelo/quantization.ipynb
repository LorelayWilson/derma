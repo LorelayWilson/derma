{
 "cells": [
  {
   "cell_type": "code",
   "execution_count": 1,
   "id": "822a4e82",
   "metadata": {},
   "outputs": [
    {
     "name": "stdout",
     "output_type": "stream",
     "text": [
      "WARNING:tensorflow:From c:\\Users\\Al\\derma\\.venv\\Lib\\site-packages\\keras\\src\\losses.py:2976: The name tf.losses.sparse_softmax_cross_entropy is deprecated. Please use tf.compat.v1.losses.sparse_softmax_cross_entropy instead.\n",
      "\n"
     ]
    }
   ],
   "source": [
    "import tensorflow as tf"
   ]
  },
  {
   "cell_type": "code",
   "execution_count": null,
   "id": "f6a72996",
   "metadata": {},
   "outputs": [],
   "source": [
    "model_before_quant_path = \"./keras/old/efficientnetb0_derma_v4.keras\"\n",
    "model_quant_path = \"./keras/quant/efficientnetb0_derma_v4_quant.keras\""
   ]
  },
  {
   "cell_type": "code",
   "execution_count": 4,
   "id": "8e0dc4ad",
   "metadata": {},
   "outputs": [],
   "source": [
    "model_before_quant = tf.keras.models.load_model(model_before_quant_path)"
   ]
  },
  {
   "cell_type": "code",
   "execution_count": null,
   "id": "70f72b00",
   "metadata": {},
   "outputs": [],
   "source": [
    "converter = tf.lite.TFLiteConverter.from_keras_model(model_before_quant)\n",
    "\n",
    "converter.optimizations = [tf.lite.Optimize.DEFAULT]\n",
    "\n",
    "# Convertimos el modelo\n",
    "tflite_model = converter.convert()\n",
    "\n",
    "with open(\"model_quant.tflite\", \"wb\") as f:\n",
    "    f.write()"
   ]
  }
 ],
 "metadata": {
  "kernelspec": {
   "display_name": ".venv",
   "language": "python",
   "name": "python3"
  },
  "language_info": {
   "codemirror_mode": {
    "name": "ipython",
    "version": 3
   },
   "file_extension": ".py",
   "mimetype": "text/x-python",
   "name": "python",
   "nbconvert_exporter": "python",
   "pygments_lexer": "ipython3",
   "version": "3.11.9"
  }
 },
 "nbformat": 4,
 "nbformat_minor": 5
}
